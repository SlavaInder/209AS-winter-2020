{
 "cells": [
  {
   "cell_type": "markdown",
   "metadata": {},
   "source": [
    "# Improts and setup"
   ]
  },
  {
   "cell_type": "markdown",
   "metadata": {},
   "source": [
    "### Setup envirnonment "
   ]
  },
  {
   "cell_type": "code",
   "execution_count": 1,
   "metadata": {},
   "outputs": [],
   "source": [
    "%load_ext autoreload\n",
    "%autoreload 2"
   ]
  },
  {
   "cell_type": "markdown",
   "metadata": {},
   "source": [
    "### Import necessaary libraries"
   ]
  },
  {
   "cell_type": "code",
   "execution_count": 2,
   "metadata": {},
   "outputs": [
    {
     "name": "stdout",
     "output_type": "stream",
     "text": [
      "WARNING:tensorflow:\n",
      "The TensorFlow contrib module will not be included in TensorFlow 2.0.\n",
      "For more information, please see:\n",
      "  * https://github.com/tensorflow/community/blob/master/rfcs/20180907-contrib-sunset.md\n",
      "  * https://github.com/tensorflow/addons\n",
      "  * https://github.com/tensorflow/io (for I/O related ops)\n",
      "If you depend on functionality not listed there, please file an issue.\n",
      "\n"
     ]
    }
   ],
   "source": [
    "import tensorflow as tf\n",
    "import tensorflow.contrib.slim as slim\n",
    "import tensorflow.contrib.slim.nets as nets\n",
    "\n",
    "import tempfile\n",
    "from urllib.request import urlretrieve\n",
    "import tarfile\n",
    "import os\n",
    "\n",
    "import json\n",
    "import matplotlib.pyplot as plt\n",
    "\n",
    "import PIL\n",
    "import numpy as np\n",
    "\n",
    "import imp"
   ]
  },
  {
   "cell_type": "markdown",
   "metadata": {},
   "source": [
    "### Import custom libraries"
   ]
  },
  {
   "cell_type": "code",
   "execution_count": 3,
   "metadata": {},
   "outputs": [],
   "source": [
    "import patch_utils\n",
    "import image_utils"
   ]
  },
  {
   "cell_type": "code",
   "execution_count": 39,
   "metadata": {},
   "outputs": [
    {
     "data": {
      "text/plain": [
       "<module 'image_utils' from '/home/slavchic/Desktop/209AS_winter_2020/python_files/image_utils/__init__.py'>"
      ]
     },
     "execution_count": 39,
     "metadata": {},
     "output_type": "execute_result"
    }
   ],
   "source": [
    "imp.reload(patch_utils)\n",
    "imp.reload(image_utils)"
   ]
  },
  {
   "cell_type": "markdown",
   "metadata": {},
   "source": [
    "# Workspace"
   ]
  },
  {
   "cell_type": "markdown",
   "metadata": {},
   "source": [
    "### Load labels"
   ]
  },
  {
   "cell_type": "code",
   "execution_count": 4,
   "metadata": {},
   "outputs": [],
   "source": [
    "imagenet_json, _ = urlretrieve(\n",
    "    'http://www.anishathalye.com/media/2017/07/25/imagenet.json')\n",
    "with open(imagenet_json) as f:\n",
    "    imagenet_labels = json.load(f)### Choose an image"
   ]
  },
  {
   "cell_type": "markdown",
   "metadata": {},
   "source": [
    "### Choose an image"
   ]
  },
  {
   "cell_type": "code",
   "execution_count": 165,
   "metadata": {},
   "outputs": [],
   "source": [
    "img1_path = './ImageNet/467863966_a01cbd9d90.jpg'\n",
    "img2_path = './ImageNet/857502810_4313e2fbd4.jpg'\n",
    "img3_path = './ImageNet/81-yKbVND-L.png'\n",
    "img4_path = ''\n",
    "img5_path = './ImageNet/EJxGm89VUAERo8e.jpg'\n",
    "img6_path = './ImageNet/flowers.jpg'\n",
    "\n",
    "number_of_images = 3\n",
    "my_raw_pillow_images = []\n",
    "\n",
    "for i in range(number_of_images):\n",
    "    my_raw_pillow_images.append(PIL.Image.open('./ImageNet/cats' + str(i+1) + '.jpg'))\n",
    "    if not i== 3: my_raw_pillow_images.append(PIL.Image.open('./ImageNet/dogs' + str(i+1) + '.jpg'))\n",
    "    \n",
    "\n",
    "# get train images    \n",
    "train_set = image_utils.preprocessing(my_raw_pillow_images)\n",
    "\n",
    "# specify the patch size, mean, std\n",
    "mean = 0\n",
    "std = 0.3\n",
    "size = 50\n",
    "\n",
    "# get patch initializer\n",
    "patch_init = np.random.normal(mean, std, (size, size, 3))\n",
    "mask = np.abs(patch_init) < 1\n",
    "patch_init *= mask\n",
    "patch_init = patch_init.astype(np.float32)\n",
    "\n",
    "length_of_training_set = train_set.shape[0]"
   ]
  },
  {
   "cell_type": "markdown",
   "metadata": {},
   "source": [
    "### Graph setup"
   ]
  },
  {
   "cell_type": "code",
   "execution_count": 166,
   "metadata": {},
   "outputs": [
    {
     "name": "stdout",
     "output_type": "stream",
     "text": [
      "INFO:tensorflow:Scale of 0 disables regularizer.\n"
     ]
    }
   ],
   "source": [
    "# somewhy utils do not automatically reload; so we have to do it manually\n",
    "imp.reload(patch_utils)\n",
    "\n",
    "# Allows not to reboot kernel on each initialization\n",
    "tf.reset_default_graph() \n",
    "\n",
    "\n",
    "# ============================================================================= #\n",
    "# ============================= declare variables ============================= #\n",
    "# ============================================================================= #\n",
    "\n",
    "\n",
    "\n",
    "# declare variable for adversarial patch\n",
    "naive_patch = tf.get_variable(name=\"patch\", initializer=patch_init, dtype=tf.float32)\n",
    "\n",
    "\n",
    "# declare a placeholder for the image\n",
    "train_images = tf.placeholder(name=\"train_images\", shape=(length_of_training_set, 300, 300, 3), dtype=tf.float32)\n",
    "\n",
    "# declare shifts\n",
    "x_shifts = tf.placeholder(name=\"x_shifts\", shape=(), dtype=tf.int32)\n",
    "y_shifts = tf.placeholder(name=\"y_shifts\", shape=(), dtype=tf.int32)\n",
    "\n",
    "# declare learning rate\n",
    "learning_rate = tf.placeholder(tf.float32, ())\n",
    "\n",
    "# declare target class\n",
    "target_class = tf.placeholder(tf.int32, ())    \n",
    "\n",
    "# declare initializer for variables\n",
    "patch_initializer = tf.variables_initializer([naive_patch])\n",
    "\n",
    "# fold parameters\n",
    "start = tf.placeholder(name=\"start\", shape=(), dtype=tf.int32)\n",
    "thickness = tf.placeholder(name=\"thickness\", shape=(), dtype=tf.int32)\n",
    "\n",
    "\n",
    "# ============================================================================= #\n",
    "# ========================== preprocessing operations ========================= #\n",
    "# ============================================================================= #\n",
    "\n",
    "\n",
    "# multiply patch\n",
    "patch_array = patch_utils.multiply(naive_patch, train_images)\n",
    "\n",
    "# fold patch\n",
    "folded_array = fold(patch_array, start, thickness) \n",
    "\n",
    "# shift patch\n",
    "shifted_patch_array = patch_utils.shift(folded_array, x_shifts, y_shifts)\n",
    "\n",
    "# apply patch\n",
    "adv_images = patch_utils.applicator(shifted_patch_array, train_images)\n",
    "\n",
    "\n",
    "\n",
    "# ============================================================================= #\n",
    "# =============================== gradient step =============================== #\n",
    "# ============================================================================= #\n",
    "\n",
    "# get target vector\n",
    "labels = tf.one_hot(np.ones((length_of_training_set)) *target_class, 1000)\n",
    "\n",
    "# declare inception\n",
    "arg_scope = nets.inception.inception_v3_arg_scope(weight_decay=0.0)\n",
    "with tf.contrib.framework.arg_scope(arg_scope):\n",
    "    tf_logits, end_points = tf.contrib.slim.nets.inception.inception_v3(adv_images,\n",
    "                                                                        num_classes=1001,   \n",
    "                                                                        is_training=False,  \n",
    "                                                                        reuse = False)            \n",
    "    tf_logits = tf_logits[:,1:]\n",
    "    probs = tf.nn.softmax(tf_logits) \n",
    "\n",
    "\n",
    "# compute losses for each image\n",
    "losses = tf.nn.softmax_cross_entropy_with_logits(logits=tf_logits, labels=[labels])    \n",
    "\n",
    "# compute the sum of all losses\n",
    "sum_loss = tf.math.reduce_sum(losses) / length_of_training_set\n",
    "\n",
    "# update patch\n",
    "optim_step = tf.train.GradientDescentOptimizer(learning_rate).minimize(sum_loss, var_list=[naive_patch])\n",
    "\n",
    "# ============================================================================= #\n",
    "# ============================= process the result ============================ #\n",
    "# ============================================================================= #\n",
    "\n",
    "\n",
    "\n",
    "# get the result\n",
    "result = adv_images\n",
    "\n",
    "\n",
    "\n",
    "# debug function\n",
    "printer = tf.print(result)\n",
    "\n",
    "\n",
    "\n",
    "# ============================================================================= #\n",
    "# =============================== declare savers ============================== #\n",
    "# ============================================================================= #\n",
    "\n",
    "\n",
    "\n",
    "# save the patch\n",
    "patch_saver = tf.train.Saver([naive_patch])\n",
    "\n",
    "# declare inception variables to restore\n",
    "restore_vars = [\n",
    "    var for var in tf.global_variables()\n",
    "    if var.name.startswith('InceptionV3/')\n",
    "]\n",
    "\n",
    "# declate saver instance to restore inception variables\n",
    "inception_saver = tf.train.Saver(restore_vars)"
   ]
  },
  {
   "cell_type": "markdown",
   "metadata": {},
   "source": [
    "### Save current graph"
   ]
  },
  {
   "cell_type": "code",
   "execution_count": 190,
   "metadata": {},
   "outputs": [],
   "source": [
    "# use this cell if you need to save graph to corresponding folder \n",
    "writer = tf.summary.FileWriter('./graphs', tf.get_default_graph())"
   ]
  },
  {
   "cell_type": "markdown",
   "metadata": {},
   "source": [
    "# Run learning "
   ]
  },
  {
   "cell_type": "code",
   "execution_count": 174,
   "metadata": {},
   "outputs": [
    {
     "name": "stdout",
     "output_type": "stream",
     "text": [
      "INFO:tensorflow:Restoring parameters from ./inception_v3_2016_08_28/inception_v3.ckpt\n",
      "INFO:tensorflow:Restoring parameters from ./patch_weights/50x50_shift/50x50_shift\n"
     ]
    }
   ],
   "source": [
    "num_steps = 1\n",
    "\n",
    "# specify whether we start to learn new patch or continue from a checkpoint\n",
    "load_patch = True\n",
    "# specify whether to save patch\n",
    "save_patch = False\n",
    "\n",
    "my_feed_dict = {\n",
    "    x_shifts: 0,\n",
    "    y_shifts: 0,\n",
    "    start: 0,\n",
    "    thickness: 0,\n",
    "    learning_rate: 1e-3,\n",
    "    target_class: 300,\n",
    "    train_images: train_set\n",
    "}\n",
    "\n",
    "with tf.Session() as sess:\n",
    "    # load weights of the model\n",
    "    inception_saver.restore(sess, './inception_v3_2016_08_28/inception_v3.ckpt')\n",
    "    \n",
    "    if load_patch:\n",
    "        patch_saver.restore(sess, './patch_weights/50x50_shift/50x50_shift')\n",
    "    else:\n",
    "        # run the variable initializer operation\n",
    "        sess.run(patch_initializer)    \n",
    "\n",
    "#     # make gradient updates\n",
    "#     for i in range(num_steps):\n",
    "#         # sample fold\n",
    "#         my_feed_dict[start] = np.random.randint(0, 39)\n",
    "#         my_feed_dict[thickness] = np.random.randint(1, 10)\n",
    "        \n",
    "#         # sample location\n",
    "#         my_feed_dict[x_shifts] = np.random.randint(0, 240)\n",
    "#         my_feed_dict[y_shifts] = np.random.randint(0, 240) \n",
    "        \n",
    "#         # optim_step is operation, not variable; it updates x_hat \n",
    "#         _, loss_value = sess.run([optim_step, sum_loss], feed_dict=my_feed_dict)\n",
    "\n",
    "#         # print loss\n",
    "#         if (i+1) % 5 == 0: print('step %d, loss=%g' % (i+1, loss_value))\n",
    "        \n",
    "#         if (i+1) % 1000 == 0:\n",
    "#             my_feed_dict[learning_rate] *= 0.5\n",
    "        \n",
    "#         # checkpoint\n",
    "#         if (i+1) % 50 == 0 and save_patch:\n",
    "#             patch_saver.save(sess, './patch_weights/50x50_shift/50x50_shift')\n",
    "    \n",
    "    # let's get the patch\n",
    "    ex_naive_patch = sess.run(naive_patch, feed_dict=my_feed_dict)\n",
    "    \n",
    "    # now let's get image with patch their value\n",
    "    ex_adv_images = sess.run(result, feed_dict=my_feed_dict)\n",
    "    \n",
    "    # and probabilities corresponding to it\n",
    "    ex_adv_probs = sess.run(probs, feed_dict=my_feed_dict)\n",
    "    \n",
    "    if save_patch:\n",
    "        patch_saver.save(sess, './patch_weights/50x50_shift/50x50_shift')"
   ]
  },
  {
   "cell_type": "code",
   "execution_count": 189,
   "metadata": {},
   "outputs": [
    {
     "name": "stderr",
     "output_type": "stream",
     "text": [
      "Clipping input data to the valid range for imshow with RGB data ([0..1] for floats or [0..255] for integers).\n"
     ]
    },
    {
     "name": "stdout",
     "output_type": "stream",
     "text": [
      "tiger beetle\n"
     ]
    },
    {
     "data": {
      "image/png": "[encoded data removed]",
      "text/plain": [
       "<Figure size 360x360 with 1 Axes>"
      ]
     },
     "metadata": {
      "needs_background": "light"
     },
     "output_type": "display_data"
    }
   ],
   "source": [
    "#image_utils.plot_adversarial_image(ex_adv_image.reshape(300, 300, 3))\n",
    "\n",
    "image_num = 2\n",
    "print(imagenet_labels[300])\n",
    "post_proc_adv_images = image_utils.postprocessing(ex_adv_images)\n",
    "post_proc_patch = image_utils.postprocessing(ex_naive_patch)\n",
    "image_utils.show_image(post_proc_patch)\n",
    "#image_utils.show_probs(post_proc_adv_images[image_num], ex_adv_probs[image_num], imagenet_labels, target_class=300)"
   ]
  },
  {
   "cell_type": "code",
   "execution_count": 8,
   "metadata": {},
   "outputs": [],
   "source": [
    "@tf.function\n",
    "def fold(array_images, starting, thickness):\n",
    "    # Array of images\n",
    "    # Float32, and int32 \n",
    "    \n",
    "    mask_fill_thickness = tf.zeros([tf.shape(array_images)[0], tf.shape(array_images)[1], thickness, 3], \n",
    "                               tf.float32, name='mask_fill_thickness')\n",
    "    \n",
    "#    tf.print(\"mask_fill_thickness:\", tf.shape(mask_fill_thickness))\n",
    "    \n",
    "    mask_left = tf.slice(array_images, [0, 0, 0, 0], [-1, -1, starting, -1]) \n",
    "    # array_images[:][:][0:starting]\n",
    "    \n",
    "#    tf.print(\"mask_left:\", tf.shape(mask_left))    \n",
    "    \n",
    "    mask_right_start = starting+thickness\n",
    "\n",
    "#    tf.print(\"mask_right_start:\", mask_right_start)\n",
    "    \n",
    "    mask_right = tf.slice(array_images, [0, 0, mask_right_start, 0], [-1, -1, -1, -1])\n",
    "    # array_images[:][:][mask_right_start:tf.shape(array_images)[2]]\n",
    "\n",
    "#    tf.print(\"mask_right:\", tf.shape(mask_right))\n",
    "    \n",
    "    mask_appended = tf.concat([mask_left, mask_right], axis=2, name='mask_appended')\n",
    "    \n",
    "#    tf.print(\"mask_appended:\", tf.shape(mask_appended))\n",
    "    \n",
    "    mask_without_fill = tf.concat([mask_left, mask_right, mask_fill_thickness], axis=2, name='mask_appended')\n",
    "    \n",
    "#    tf.print(\"mask_without_fill:\", tf.shape(mask_without_fill))\n",
    "    \n",
    "    \n",
    "    # Let's add the -2 fills now \n",
    "    mask_fill = tf.ones([tf.shape(array_images)[0], tf.shape(array_images)[1], thickness, 3], \n",
    "                        tf.float32, \n",
    "                        name='mask_fill')\n",
    "    mask_fill_two = tf.subtract(mask_fill, 3, name='mask_fill_two')\n",
    "    remaining = tf.shape(array_images)[2] - thickness\n",
    "    mask_fill_zeros = tf.zeros([tf.shape(array_images)[0], tf.shape(array_images)[1], remaining, 3], \n",
    "                               tf.float32, name='mask_fill_zeroes')\n",
    "    \n",
    "#    tf.print(\"mask_fill_two\", tf.shape(mask_fill_two))\n",
    "    \n",
    "        \n",
    "    mask_fill_final = tf.concat([mask_fill_zeros, mask_fill_two], axis=2, name='mask_fill_final')\n",
    "    \n",
    "#    tf.print(\"mask_fill_final:\", tf.shape(mask_fill_final))\n",
    "    \n",
    "#    tf.print(\"mask_without_fill:\", tf.shape(mask_without_fill))\n",
    "    \n",
    "    out = tf.add(mask_without_fill, mask_fill_final)\n",
    "    \n",
    "#    tf.print(out)\n",
    "    \n",
    "    return out"
   ]
  },
  {
   "cell_type": "code",
   "execution_count": null,
   "metadata": {},
   "outputs": [],
   "source": []
  }
 ],
 "metadata": {
  "kernelspec": {
   "display_name": "venv_209AS",
   "language": "python",
   "name": "venv_209as"
  },
  "language_info": {
   "codemirror_mode": {
    "name": "ipython",
    "version": 3
   },
   "file_extension": ".py",
   "mimetype": "text/x-python",
   "name": "python",
   "nbconvert_exporter": "python",
   "pygments_lexer": "ipython3",
   "version": "3.5.6"
  }
 },
 "nbformat": 4,
 "nbformat_minor": 4
}
