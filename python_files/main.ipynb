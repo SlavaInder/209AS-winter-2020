{
 "cells": [
  {
   "cell_type": "markdown",
   "metadata": {},
   "source": [
    "# Improts and setup"
   ]
  },
  {
   "cell_type": "markdown",
   "metadata": {},
   "source": [
    "### Setup envirnonment "
   ]
  },
  {
   "cell_type": "code",
   "execution_count": 1,
   "metadata": {},
   "outputs": [],
   "source": [
    "%load_ext autoreload\n",
    "%autoreload 2"
   ]
  },
  {
   "cell_type": "markdown",
   "metadata": {},
   "source": [
    "### Import necessaary libraries"
   ]
  },
  {
   "cell_type": "code",
   "execution_count": 2,
   "metadata": {
    "scrolled": true
   },
   "outputs": [
    {
     "name": "stdout",
     "output_type": "stream",
     "text": [
      "WARNING:tensorflow:\n",
      "The TensorFlow contrib module will not be included in TensorFlow 2.0.\n",
      "For more information, please see:\n",
      "  * https://github.com/tensorflow/community/blob/master/rfcs/20180907-contrib-sunset.md\n",
      "  * https://github.com/tensorflow/addons\n",
      "  * https://github.com/tensorflow/io (for I/O related ops)\n",
      "If you depend on functionality not listed there, please file an issue.\n",
      "\n"
     ]
    }
   ],
   "source": [
    "import tensorflow as tf\n",
    "import tensorflow.contrib.slim as slim\n",
    "import tensorflow.contrib.slim.nets as nets\n",
    "\n",
    "import tempfile\n",
    "from urllib.request import urlretrieve\n",
    "import tarfile\n",
    "import os\n",
    "\n",
    "import json\n",
    "import matplotlib.pyplot as plt\n",
    "\n",
    "import PIL\n",
    "import numpy as np\n",
    "\n",
    "import imp"
   ]
  },
  {
   "cell_type": "markdown",
   "metadata": {},
   "source": [
    "### Import custom libraries"
   ]
  },
  {
   "cell_type": "code",
   "execution_count": 3,
   "metadata": {},
   "outputs": [],
   "source": [
    "import patch_utils\n",
    "import image_utils"
   ]
  },
  {
   "cell_type": "code",
   "execution_count": 4,
   "metadata": {},
   "outputs": [
    {
     "data": {
      "text/plain": [
       "<module 'image_utils' from 'C:\\\\Users\\\\slavc\\\\Desktop\\\\UCLA\\\\Cources\\\\winter_2020\\\\209AS\\\\project\\\\209AS-winter-2020\\\\python_files\\\\image_utils\\\\__init__.py'>"
      ]
     },
     "execution_count": 4,
     "metadata": {},
     "output_type": "execute_result"
    }
   ],
   "source": [
    "imp.reload(patch_utils)\n",
    "imp.reload(image_utils)"
   ]
  },
  {
   "cell_type": "markdown",
   "metadata": {},
   "source": [
    "# Workspace"
   ]
  },
  {
   "cell_type": "markdown",
   "metadata": {},
   "source": [
    "### Load labels"
   ]
  },
  {
   "cell_type": "code",
   "execution_count": 5,
   "metadata": {},
   "outputs": [],
   "source": [
    "imagenet_json, _ = urlretrieve(\n",
    "    'http://www.anishathalye.com/media/2017/07/25/imagenet.json')\n",
    "with open(imagenet_json) as f:\n",
    "    imagenet_labels = json.load(f)### Choose an image"
   ]
  },
  {
   "cell_type": "markdown",
   "metadata": {},
   "source": [
    "### Choose an image"
   ]
  },
  {
   "cell_type": "code",
   "execution_count": 32,
   "metadata": {},
   "outputs": [],
   "source": [
    "# specify training set\n",
    "number_of_images = 3\n",
    "folder_with_images = \"ImageNet/training_set\"\n",
    "folder_for_patch_chkpt = \"./patch_weights/shift_rotate/\"\n",
    "\n",
    "\n",
    "# specify the patch size, mean, std\n",
    "mean = 0\n",
    "std = 0.3\n",
    "size = 100\n",
    "\n",
    "\n",
    "# get patch initializer\n",
    "patch_init = np.random.normal(mean, std, (size, size, 3))\n",
    "mask = np.abs(patch_init) < 1\n",
    "patch_init *= mask\n",
    "patch_init = patch_init.astype(np.float32)\n",
    "\n",
    "\n",
    "# get train images \n",
    "train_set = image_utils.sample_image_wrapper(number_of_images, folder_with_images)"
   ]
  },
  {
   "cell_type": "markdown",
   "metadata": {},
   "source": [
    "### Graph setup"
   ]
  },
  {
   "cell_type": "code",
   "execution_count": 33,
   "metadata": {},
   "outputs": [
    {
     "name": "stdout",
     "output_type": "stream",
     "text": [
      "INFO:tensorflow:Scale of 0 disables regularizer.\n"
     ]
    }
   ],
   "source": [
    "# somewhy utils do not automatically reload; so we have to do it manually\n",
    "imp.reload(patch_utils)\n",
    "\n",
    "# Allows not to reboot kernel on each initialization\n",
    "tf.reset_default_graph() \n",
    "\n",
    "\n",
    "# ============================================================================= #\n",
    "# ============================= declare variables ============================= #\n",
    "# ============================================================================= #\n",
    "\n",
    "\n",
    "\n",
    "# declare variable for adversarial patch\n",
    "naive_patch = tf.get_variable(name=\"patch\", initializer=patch_init, dtype=tf.float32)\n",
    "\n",
    "\n",
    "# declare a placeholder for the image\n",
    "train_images = tf.placeholder(name=\"train_images\", shape=(number_of_images, 300, 300, 3), dtype=tf.float32)\n",
    "\n",
    "# declare shifts\n",
    "x_shifts = tf.placeholder(name=\"x_shifts\", shape=(), dtype=tf.int32)\n",
    "y_shifts = tf.placeholder(name=\"y_shifts\", shape=(), dtype=tf.int32)\n",
    "\n",
    "# declare learning rate\n",
    "learning_rate = tf.placeholder(tf.float32, ())\n",
    "\n",
    "# declare target class\n",
    "target_class = tf.placeholder(tf.int32, ())    \n",
    "\n",
    "# declare initializer for variables\n",
    "patch_initializer = tf.variables_initializer([naive_patch])\n",
    "\n",
    "# fold parameters\n",
    "start = tf.placeholder(name=\"start\", shape=(), dtype=tf.int32)\n",
    "end = tf.placeholder(name='end', shape=(), dtype=tf.int32)\n",
    "thickness = tf.placeholder(name=\"thickness\", shape=(), dtype=tf.int32)\n",
    "slope = tf.placeholder(name='slope',shape=(),dtype=tf.int32)\n",
    "\n",
    "# rotation\n",
    "degrees = tf.placeholder(name='degrees', shape=(), dtype=tf.float32)\n",
    "\n",
    "\n",
    "# ============================================================================= #\n",
    "# ========================== preprocessing operations ========================= #\n",
    "# ============================================================================= #\n",
    "\n",
    "\n",
    "# multiply patch\n",
    "patch_array = patch_utils.multiply(naive_patch, train_images)\n",
    "\n",
    "# fold patch\n",
    "# folded_array = fold(patch_array, start, thickness) \n",
    "folded_array = patch_utils.foldVariety(patch_array, start, end, thickness, slope)\n",
    "c = tf.print(tf.shape(folded_array))\n",
    "\n",
    "# shift patch\n",
    "# shifted_patch_array = patch_utils.shift(folded_array, x_shifts, y_shifts)\n",
    "shifted_patch_array = patch_utils.shift_rotate(folded_array, x_shifts, y_shifts, degrees)\n",
    "\n",
    "\n",
    "# apply patch\n",
    "adv_images = patch_utils.applicator(shifted_patch_array, train_images)\n",
    "\n",
    "\n",
    "\n",
    "# ============================================================================= #\n",
    "# =============================== gradient step =============================== #\n",
    "# ============================================================================= #\n",
    "\n",
    "# get target vector\n",
    "labels = tf.one_hot(np.ones((number_of_images)) *target_class, 1000)\n",
    "\n",
    "# declare inception\n",
    "arg_scope = nets.inception.inception_v3_arg_scope(weight_decay=0.0)\n",
    "with tf.contrib.framework.arg_scope(arg_scope):\n",
    "    tf_logits, end_points = tf.contrib.slim.nets.inception.inception_v3(adv_images,\n",
    "                                                                        num_classes=1001,   \n",
    "                                                                        is_training=False,  \n",
    "                                                                        reuse = False)            \n",
    "    tf_logits = tf_logits[:,1:]\n",
    "    probs = tf.nn.softmax(tf_logits) \n",
    "\n",
    "\n",
    "# compute losses for each image\n",
    "losses = tf.nn.softmax_cross_entropy_with_logits(logits=tf_logits, labels=[labels])    \n",
    "\n",
    "# compute the sum of all losses\n",
    "sum_loss = tf.math.reduce_sum(losses) / number_of_images\n",
    "\n",
    "# update patch\n",
    "optim_step = tf.train.GradientDescentOptimizer(learning_rate).minimize(sum_loss, var_list=[naive_patch])\n",
    "\n",
    "# clip update to a valid range of variables\n",
    "projected = tf.clip_by_value(naive_patch, -1, 1)\n",
    "with tf.control_dependencies([projected]):\n",
    "    project_step = tf.assign(naive_patch, projected)\n",
    "\n",
    "\n",
    "# ============================================================================= #\n",
    "# ============================= process the result ============================ #\n",
    "# ============================================================================= #\n",
    "\n",
    "\n",
    "\n",
    "# get the result\n",
    "result = adv_images\n",
    "\n",
    "\n",
    "\n",
    "# debug function\n",
    "printer = tf.print(result)\n",
    "\n",
    "\n",
    "\n",
    "# ============================================================================= #\n",
    "# =============================== declare savers ============================== #\n",
    "# ============================================================================= #\n",
    "\n",
    "\n",
    "\n",
    "# save the patch\n",
    "patch_saver = tf.train.Saver([naive_patch])\n",
    "\n",
    "# declare inception variables to restore\n",
    "restore_vars = [\n",
    "    var for var in tf.global_variables()\n",
    "    if var.name.startswith('InceptionV3/')\n",
    "]\n",
    "\n",
    "# declate saver instance to restore inception variables\n",
    "inception_saver = tf.train.Saver(restore_vars)"
   ]
  },
  {
   "cell_type": "markdown",
   "metadata": {},
   "source": [
    "### Save current graph"
   ]
  },
  {
   "cell_type": "code",
   "execution_count": null,
   "metadata": {},
   "outputs": [],
   "source": [
    "# use this cell if you need to save graph to corresponding folder \n",
    "writer = tf.summary.FileWriter('./graphs', tf.get_default_graph())"
   ]
  },
  {
   "cell_type": "markdown",
   "metadata": {},
   "source": [
    "# Run learning "
   ]
  },
  {
   "cell_type": "code",
   "execution_count": 45,
   "metadata": {},
   "outputs": [
    {
     "name": "stdout",
     "output_type": "stream",
     "text": [
      "INFO:tensorflow:Restoring parameters from ./inception_v3_2016_08_28/inception_v3.ckpt\n",
      "INFO:tensorflow:Restoring parameters from ./patch_weights/shift_rotate/100x100/patch100x100\n"
     ]
    }
   ],
   "source": [
    "num_steps = 1\n",
    "\n",
    "# specify whether we start to learn new patch or continue from a checkpoint\n",
    "load_patch = True\n",
    "# specify whether to save patch\n",
    "save_patch = False\n",
    "\n",
    "my_feed_dict = {\n",
    "    x_shifts: 0,\n",
    "    y_shifts: 200,\n",
    "    start: 0,\n",
    "    end: size,\n",
    "    thickness: size // 10 - 1,\n",
    "    slope: 0,\n",
    "    learning_rate: 1,\n",
    "    target_class: 200,\n",
    "    train_images: train_set,\n",
    "    degrees: 0\n",
    "}\n",
    "\n",
    "with tf.Session() as sess:\n",
    "    # load weights of the model\n",
    "    inception_saver.restore(sess, './inception_v3_2016_08_28/inception_v3.ckpt')\n",
    "    \n",
    "    if load_patch:\n",
    "        patch_saver.restore(sess, folder_for_patch_chkpt + str(size) + 'x' + str(size) + '/patch' + \\\n",
    "                           str(size) + 'x' + str(size))\n",
    "    else:\n",
    "        # run the variable initializer operation\n",
    "        sess.run(patch_initializer)    \n",
    "\n",
    "    # make gradient updates\n",
    "    for i in range(num_steps):\n",
    "        # sample fold\n",
    "        my_feed_dict[start] = np.random.randint(0, size - size // 10 - 1)\n",
    "        my_feed_dict[thickness] = np.random.randint(5, size // 10)\n",
    "        \n",
    "        # sample location\n",
    "        my_feed_dict[x_shifts] = np.random.randint(0, 300 - size - size // 10 - 1)\n",
    "        my_feed_dict[y_shifts] = np.random.randint(0, 300 - size - size // 10 - 1)\n",
    "        \n",
    "        # sample rotation\n",
    "        my_feed_dict[degrees] = np.random.randint(-15, 15)\n",
    "        \n",
    "        # sample images:\n",
    "        train_set = image_utils.sample_image_wrapper(number_of_images, folder_with_images)\n",
    "        \n",
    "        # optim_step is operation, not variable; it updates x_hat \n",
    "        _, loss_value = sess.run([optim_step, sum_loss], feed_dict=my_feed_dict)\n",
    "         # clip output to the valid range\n",
    "        sess.run(project_step, feed_dict=my_feed_dict)\n",
    "\n",
    "        # print loss\n",
    "        if (i+1) % 5 == 0: print('step %d, loss=%g' % (i+1, loss_value))\n",
    "            \n",
    "        # save patch\n",
    "        if (i+1) % 50 == 0: patch_saver.save(sess, folder_for_patch_chkpt + str(size) + 'x' + str(size) + '/patch' + \\\n",
    "                           str(size) + 'x' + str(size))\n",
    "        \n",
    "        # scale loss\n",
    "        if (i+1) % 10000 == 0: my_feed_dict[learning_rate] *= 0.5\n",
    "    \n",
    "    \n",
    "    # let's get outpts\n",
    "    ex_naive_patch = sess.run(naive_patch, feed_dict=my_feed_dict)    \n",
    "    ex_adv_images = sess.run(result, feed_dict=my_feed_dict)\n",
    "    ex_adv_probs = sess.run(probs, feed_dict=my_feed_dict)\n",
    "    \n",
    "    if save_patch:\n",
    "        patch_saver.save(sess, folder_for_patch_chkpt + str(size) + 'x' + str(size) + '/patch' + \\\n",
    "                           str(size) + 'x' + str(size))"
   ]
  },
  {
   "cell_type": "code",
   "execution_count": 48,
   "metadata": {
    "scrolled": false
   },
   "outputs": [
    {
     "data": {
      "image/png": "[encoded data removed]",
      "text/plain": [
       "<Figure size 720x576 with 2 Axes>"
      ]
     },
     "metadata": {
      "needs_background": "light"
     },
     "output_type": "display_data"
    }
   ],
   "source": [
    "post_proc_adv_patch = image_utils.postprocessing(ex_naive_patch)\n",
    "image_utils.show_probs(post_proc_adv_patch, ex_adv_probs[image_num], \n",
    "                       imagenet_labels, target_class=200)\n",
    "\n",
    "# image_utils.plot_adversarial_image(ex_adv_image.reshape(300, 300, 3))\n",
    "\n",
    "# print(ex_adv_images[3][50])\n",
    "\n",
    "# image_num = 1\n",
    "# print(imagenet_labels[200])\n",
    "# post_proc_adv_images = image_utils.postprocessing(ex_adv_images)\n",
    "# image_utils.show_probs(post_proc_adv_images[image_num], ex_adv_probs[image_num], \n",
    "#                        imagenet_labels, target_class=200)"
   ]
  },
  {
   "cell_type": "markdown",
   "metadata": {},
   "source": [
    "# Run validation"
   ]
  },
  {
   "cell_type": "markdown",
   "metadata": {},
   "source": [
    "### Init accuracies"
   ]
  },
  {
   "cell_type": "code",
   "execution_count": 77,
   "metadata": {},
   "outputs": [],
   "source": [
    "# init metrics\n",
    "lowest_prob_valid = 1.0\n",
    "average_prob_valid = 0\n",
    "top_5_probs_valid = 0\n",
    "\n",
    "# init helper values to calculate metrics\n",
    "sum_prob_valid = 0\n",
    "top_5_counter_valid = 0\n",
    "current_steps_valid = 0"
   ]
  },
  {
   "cell_type": "markdown",
   "metadata": {},
   "source": [
    "### Run validation"
   ]
  },
  {
   "cell_type": "code",
   "execution_count": 78,
   "metadata": {},
   "outputs": [
    {
     "name": "stdout",
     "output_type": "stream",
     "text": [
      "INFO:tensorflow:Restoring parameters from ./inception_v3_2016_08_28/inception_v3.ckpt\n",
      "INFO:tensorflow:Restoring parameters from ./patch_weights/shift_rotate/100x100/patch100x100\n",
      "Running step 5\n",
      "Running step 10\n",
      "Running step 15\n",
      "Running step 20\n",
      "Running step 25\n",
      "Running step 30\n",
      "Running step 35\n",
      "Running step 40\n",
      "Running step 45\n",
      "Running step 50\n",
      "Running step 55\n",
      "Running step 60\n",
      "Running step 65\n",
      "Running step 70\n",
      "Running step 75\n",
      "Running step 80\n",
      "Running step 85\n",
      "Running step 90\n",
      "Running step 95\n",
      "Running step 100\n"
     ]
    }
   ],
   "source": [
    "num_steps = 100\n",
    "\n",
    "folder_with_validation = \"ImageNet/validation_set\"\n",
    "\n",
    "my_feed_dict = {\n",
    "    x_shifts: 0,\n",
    "    y_shifts: 0,\n",
    "    start: 40,\n",
    "    end: 40,\n",
    "    thickness: 10,\n",
    "    slope: 0,\n",
    "    learning_rate: 1,\n",
    "    target_class: 200,\n",
    "    train_images: train_set,\n",
    "    degrees: 0\n",
    "}\n",
    "\n",
    "with tf.Session() as sess:\n",
    "    # load weights of the model\n",
    "    inception_saver.restore(sess, './inception_v3_2016_08_28/inception_v3.ckpt')\n",
    "    \n",
    "    patch_saver.restore(sess, folder_for_patch_chkpt + str(size) + 'x' + str(size) + '/patch' + \\\n",
    "                           str(size) + 'x' + str(size))\n",
    "\n",
    "\n",
    "    # make gradient updates\n",
    "    for i in range(num_steps):\n",
    "        # sample fold\n",
    "        my_feed_dict[end] = np.random.randint(0, size - size // 10 - 1)\n",
    "        my_feed_dict[thickness] = np.random.randint(1, size // 10)\n",
    "        \n",
    "        # sample location\n",
    "        my_feed_dict[x_shifts] = np.random.randint(0, 300 - size - size // 10 - 1)\n",
    "        my_feed_dict[y_shifts] = np.random.randint(0, 300 - size - size // 10 - 1)\n",
    "        \n",
    "        # sample rotation\n",
    "        my_feed_dict[degrees] = np.random.randint(-15, 15)\n",
    "        \n",
    "        # sample images:\n",
    "        validation_set = image_utils.sample_image_wrapper(number_of_images, folder_with_validation)\n",
    "        \n",
    "        # check probabilities\n",
    "        ex_adv_probs = sess.run(probs, feed_dict=my_feed_dict)\n",
    "        \n",
    "        if (i+1)%5 == 0: print(\"Running step\", i+1)\n",
    "        \n",
    "        # infer information from received probabilities\n",
    "        for j in range(number_of_images):\n",
    "            # get the sum of probailities to calculate average probability\n",
    "            sum_prob_valid += ex_adv_probs[j][my_feed_dict[target_class]]\n",
    "            \n",
    "            # get the number of cases where target class is presented in top-5 probabilities\n",
    "            if my_feed_dict[target_class] in ex_adv_probs[j].argsort()[-5:]:\n",
    "                top_5_counter_valid += 1\n",
    "                \n",
    "            \n",
    "            # update the lowest probability\n",
    "            if ex_adv_probs[j][my_feed_dict[target_class]] < lowest_prob_valid: \n",
    "                lowest_prob_valid = ex_adv_probs[j][my_feed_dict[target_class]]\n",
    "            \n",
    "            \n",
    "\n",
    "\n",
    "current_steps_valid += num_steps\n",
    "top_5_probs_valid = top_5_counter_valid/(current_steps_valid * number_of_images)\n",
    "average_prob_valid  = sum_prob_valid/(current_steps_valid * number_of_images)"
   ]
  },
  {
   "cell_type": "code",
   "execution_count": 79,
   "metadata": {},
   "outputs": [
    {
     "name": "stdout",
     "output_type": "stream",
     "text": [
      "Average accuracy:  0.9821708011627197\n",
      "Lowest accuracy:  0.53795016\n",
      "Top-5 accuracy:  1.0\n"
     ]
    }
   ],
   "source": [
    "print(\"Average accuracy: \", average_prob_valid)\n",
    "print(\"Lowest accuracy: \", lowest_prob_valid)\n",
    "print(\"Top-5 accuracy: \", top_5_probs_valid)"
   ]
  },
  {
   "cell_type": "markdown",
   "metadata": {},
   "source": [
    "# Run test "
   ]
  },
  {
   "cell_type": "code",
   "execution_count": 81,
   "metadata": {},
   "outputs": [],
   "source": [
    "# init metrics\n",
    "lowest_prob_test = 1.0\n",
    "average_prob_test = 0\n",
    "top_5_probs_test = 0\n",
    "\n",
    "# init helper values to calculate metrics\n",
    "sum_prob_test = 0\n",
    "top_5_counter_test = 0\n",
    "current_steps_test = 0"
   ]
  },
  {
   "cell_type": "code",
   "execution_count": 83,
   "metadata": {},
   "outputs": [
    {
     "name": "stdout",
     "output_type": "stream",
     "text": [
      "INFO:tensorflow:Restoring parameters from ./inception_v3_2016_08_28/inception_v3.ckpt\n",
      "INFO:tensorflow:Restoring parameters from ./patch_weights/shift_rotate/100x100/patch100x100\n",
      "Running step 5\n",
      "Running step 10\n",
      "Running step 15\n",
      "Running step 20\n",
      "Running step 25\n",
      "Running step 30\n",
      "Running step 35\n",
      "Running step 40\n",
      "Running step 45\n",
      "Running step 50\n",
      "Running step 55\n",
      "Running step 60\n",
      "Running step 65\n",
      "Running step 70\n",
      "Running step 75\n",
      "Running step 80\n",
      "Running step 85\n",
      "Running step 90\n",
      "Running step 95\n",
      "Running step 100\n"
     ]
    }
   ],
   "source": [
    "num_steps = 100\n",
    "\n",
    "folder_with_validation = \"ImageNet/test_set\"\n",
    "\n",
    "my_feed_dict = {\n",
    "    x_shifts: 0,\n",
    "    y_shifts: 0,\n",
    "    start: 40,\n",
    "    end: 40,\n",
    "    thickness: 10,\n",
    "    slope: 0,\n",
    "    learning_rate: 1,\n",
    "    target_class: 200,\n",
    "    train_images: train_set,\n",
    "    degrees: 0\n",
    "}\n",
    "\n",
    "with tf.Session() as sess:\n",
    "    # load weights of the model\n",
    "    inception_saver.restore(sess, './inception_v3_2016_08_28/inception_v3.ckpt')\n",
    "    \n",
    "    patch_saver.restore(sess, folder_for_patch_chkpt + str(size) + 'x' + str(size) + '/patch' + \\\n",
    "                           str(size) + 'x' + str(size))\n",
    "\n",
    "\n",
    "    # make gradient updates\n",
    "    for i in range(num_steps):\n",
    "        # sample fold\n",
    "        my_feed_dict[end] = np.random.randint(0, size - size // 10 - 1)\n",
    "        my_feed_dict[thickness] = np.random.randint(1, size // 10)\n",
    "        \n",
    "        # sample location\n",
    "        my_feed_dict[x_shifts] = np.random.randint(0, 300 - size - size // 10 - 1)\n",
    "        my_feed_dict[y_shifts] = np.random.randint(0, 300 - size - size // 10 - 1)\n",
    "        \n",
    "        # sample rotation\n",
    "        my_feed_dict[degrees] = np.random.randint(-15, 15)\n",
    "        \n",
    "        # sample images:\n",
    "        validation_set = image_utils.sample_image_wrapper(number_of_images, folder_with_validation)\n",
    "        \n",
    "        # check probabilities\n",
    "        ex_adv_probs = sess.run(probs, feed_dict=my_feed_dict)\n",
    "        \n",
    "        if (i+1)%5 == 0: print(\"Running step\", i+1)\n",
    "        \n",
    "        # infer information from received probabilities\n",
    "        for j in range(number_of_images):\n",
    "            # get the sum of probailities to calculate average probability\n",
    "            sum_prob_test += ex_adv_probs[j][my_feed_dict[target_class]]\n",
    "            \n",
    "            # get the number of cases where target class is presented in top-5 probabilities\n",
    "            if my_feed_dict[target_class] in ex_adv_probs[j].argsort()[-5:]:\n",
    "                top_5_counter_test += 1\n",
    "                \n",
    "            \n",
    "            # update the lowest probability\n",
    "            if ex_adv_probs[j][my_feed_dict[target_class]] < lowest_prob_test: \n",
    "                lowest_prob_test = ex_adv_probs[j][my_feed_dict[target_class]]\n",
    "            \n",
    "            \n",
    "\n",
    "\n",
    "current_steps_test += num_steps\n",
    "top_5_probs_test = top_5_counter_test/(current_steps_test * number_of_images)\n",
    "average_prob_test  = sum_prob_test/(current_steps_test * number_of_images)"
   ]
  },
  {
   "cell_type": "code",
   "execution_count": 84,
   "metadata": {},
   "outputs": [
    {
     "name": "stdout",
     "output_type": "stream",
     "text": [
      "Average accuracy:  0.9845796162883441\n",
      "Lowest accuracy:  0.4337065\n",
      "Top-5 accuracy:  1.0\n"
     ]
    }
   ],
   "source": [
    "print(\"Average accuracy: \", average_prob_test)\n",
    "print(\"Lowest accuracy: \", lowest_prob_test)\n",
    "print(\"Top-5 accuracy: \", top_5_probs_test)"
   ]
  }
 ],
 "metadata": {
  "kernelspec": {
   "display_name": "venv_209AS",
   "language": "python",
   "name": "venv_209as"
  },
  "language_info": {
   "codemirror_mode": {
    "name": "ipython",
    "version": 3
   },
   "file_extension": ".py",
   "mimetype": "text/x-python",
   "name": "python",
   "nbconvert_exporter": "python",
   "pygments_lexer": "ipython3",
   "version": "3.5.6"
  },
  "varInspector": {
   "cols": {
    "lenName": 16,
    "lenType": 16,
    "lenVar": 40
   },
   "kernels_config": {
    "python": {
     "delete_cmd_postfix": "",
     "delete_cmd_prefix": "del ",
     "library": "var_list.py",
     "varRefreshCmd": "print(var_dic_list())"
    },
    "r": {
     "delete_cmd_postfix": ") ",
     "delete_cmd_prefix": "rm(",
     "library": "var_list.r",
     "varRefreshCmd": "cat(var_dic_list()) "
    }
   },
   "types_to_exclude": [
    "module",
    "function",
    "builtin_function_or_method",
    "instance",
    "_Feature"
   ],
   "window_display": false
  }
 },
 "nbformat": 4,
 "nbformat_minor": 4
}
