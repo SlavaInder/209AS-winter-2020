{
 "cells": [
  {
   "cell_type": "markdown",
   "metadata": {},
   "source": [
    "# Improts and setup"
   ]
  },
  {
   "cell_type": "markdown",
   "metadata": {},
   "source": [
    "### Setup envirnonment "
   ]
  },
  {
   "cell_type": "code",
   "execution_count": 1,
   "metadata": {},
   "outputs": [],
   "source": [
    "%load_ext autoreload\n",
    "%autoreload 2"
   ]
  },
  {
   "cell_type": "markdown",
   "metadata": {},
   "source": [
    "### Import necessaary libraries"
   ]
  },
  {
   "cell_type": "code",
   "execution_count": 323,
   "metadata": {},
   "outputs": [],
   "source": [
    "import tensorflow as tf\n",
    "import tensorflow.contrib.slim as slim\n",
    "import tensorflow.contrib.slim.nets as nets\n",
    "import math\n",
    "\n",
    "import tempfile\n",
    "from urllib.request import urlretrieve\n",
    "import tarfile\n",
    "import os\n",
    "\n",
    "import json\n",
    "import matplotlib.pyplot as plt\n",
    "\n",
    "import PIL\n",
    "import numpy as np\n",
    "\n",
    "import imp"
   ]
  },
  {
   "cell_type": "markdown",
   "metadata": {},
   "source": [
    "### Import custom libraries"
   ]
  },
  {
   "cell_type": "code",
   "execution_count": 3,
   "metadata": {},
   "outputs": [],
   "source": [
    "import patch_utils\n",
    "import image_utils"
   ]
  },
  {
   "cell_type": "code",
   "execution_count": 4,
   "metadata": {},
   "outputs": [
    {
     "data": {
      "text/plain": [
       "<module 'image_utils' from 'C:\\\\Users\\\\slavc\\\\Desktop\\\\UCLA\\\\Cources\\\\winter_2020\\\\209AS\\\\project\\\\209AS-winter-2020\\\\python_files\\\\image_utils\\\\__init__.py'>"
      ]
     },
     "execution_count": 4,
     "metadata": {},
     "output_type": "execute_result"
    }
   ],
   "source": [
    "imp.reload(patch_utils)\n",
    "imp.reload(image_utils)"
   ]
  },
  {
   "cell_type": "markdown",
   "metadata": {},
   "source": [
    "# Workspace"
   ]
  },
  {
   "cell_type": "markdown",
   "metadata": {},
   "source": [
    "### Load labels"
   ]
  },
  {
   "cell_type": "code",
   "execution_count": 5,
   "metadata": {},
   "outputs": [],
   "source": [
    "imagenet_json, _ = urlretrieve(\n",
    "    'http://www.anishathalye.com/media/2017/07/25/imagenet.json')\n",
    "with open(imagenet_json) as f:\n",
    "    imagenet_labels = json.load(f)### Choose an image"
   ]
  },
  {
   "cell_type": "markdown",
   "metadata": {},
   "source": [
    "### Choose an image"
   ]
  },
  {
   "cell_type": "code",
   "execution_count": 315,
   "metadata": {},
   "outputs": [],
   "source": [
    "# specify training set\n",
    "number_of_images = 3\n",
    "folder_with_images = \"ImageNet/training_set\"\n",
    "folder_for_patch_chkpt = \"./patch_weights/shift_rotate/\"\n",
    "\n",
    "\n",
    "# specify the patch size, mean, std\n",
    "mean = 0\n",
    "std = 0.3\n",
    "size = 100\n",
    "\n",
    "\n",
    "# get patch initializer\n",
    "patch_init = np.random.normal(mean, std, (size, size, 3))\n",
    "mask = np.abs(patch_init) < 1\n",
    "patch_init *= mask\n",
    "patch_init = patch_init.astype(np.float32)\n",
    "\n",
    "\n",
    "# get train images \n",
    "train_set = image_utils.sample_image_wrapper(number_of_images, folder_with_images)"
   ]
  },
  {
   "cell_type": "markdown",
   "metadata": {},
   "source": [
    "### Graph setup"
   ]
  },
  {
   "cell_type": "code",
   "execution_count": 404,
   "metadata": {},
   "outputs": [],
   "source": [
    "# somewhy utils do not automatically reload; so we have to do it manually\n",
    "imp.reload(patch_utils)\n",
    "\n",
    "# Allows not to reboot kernel on each initialization\n",
    "tf.reset_default_graph() \n",
    "\n",
    "\n",
    "# ============================================================================= #\n",
    "# ============================= declare variables ============================= #\n",
    "# ============================================================================= #\n",
    "\n",
    "\n",
    "\n",
    "# declare variable for adversarial patch\n",
    "naive_patch = tf.get_variable(name=\"patch\", initializer=patch_init, dtype=tf.float32)\n",
    "\n",
    "\n",
    "# declare a placeholder for the image\n",
    "train_images = tf.placeholder(name=\"train_images\", shape=(number_of_images, 300, 300, 3), dtype=tf.float32)\n",
    "\n",
    "# declare shifts\n",
    "x_shifts = tf.placeholder(name=\"x_shifts\", shape=(), dtype=tf.int32)\n",
    "y_shifts = tf.placeholder(name=\"y_shifts\", shape=(), dtype=tf.int32)\n",
    "\n",
    "# declare learning rate\n",
    "learning_rate = tf.placeholder(tf.float32, ())\n",
    "\n",
    "# declare target class\n",
    "target_class = tf.placeholder(tf.int32, ())    \n",
    "\n",
    "# declare initializer for variables\n",
    "patch_initializer = tf.variables_initializer([naive_patch])\n",
    "\n",
    "# fold parameters\n",
    "start_x = tf.placeholder(name=\"start_x\", shape=(), dtype=tf.int32)\n",
    "start_y = tf.placeholder(name='start_y', shape=(), dtype=tf.int32)\n",
    "end_x = tf.placeholder(name='end_x', shape=(), dtype=tf.int32)\n",
    "end_y = tf.placeholder(name='end_y', shape=(), dtype=tf.int32)\n",
    "thickness = tf.placeholder(name=\"thickness\", shape=(), dtype=tf.int32)\n",
    "\n",
    "# rotation\n",
    "degrees = tf.placeholder(name='degrees', shape=(), dtype=tf.float32)\n",
    "\n",
    "\n",
    "# ============================================================================= #\n",
    "# ========================== preprocessing operations ========================= #\n",
    "# ============================================================================= #\n",
    "\n",
    "\n",
    "# multiply patch\n",
    "patch_array = patch_utils.multiply(naive_patch, train_images)\n",
    "\n",
    "# fold patch\n",
    "# folded_array = fold(patch_array, start, thickness) \n",
    "folded_array = _simple_fold_neightbours(patch_array, start_x, start_y, end_x, end_y, thickness)\n",
    "\n",
    "# # shift patch\n",
    "# # shifted_patch_array = patch_utils.shift(folded_array, x_shifts, y_shifts)\n",
    "# shifted_patch_array = patch_utils.shift_rotate(folded_array, x_shifts, y_shifts, degrees)\n",
    "\n",
    "\n",
    "# # apply patch\n",
    "# adv_images = patch_utils.applicator(shifted_patch_array, train_images)\n",
    "\n",
    "# save the patch\n",
    "patch_saver = tf.train.Saver([naive_patch])"
   ]
  },
  {
   "cell_type": "code",
   "execution_count": 405,
   "metadata": {},
   "outputs": [
    {
     "name": "stdout",
     "output_type": "stream",
     "text": [
      "INFO:tensorflow:Restoring parameters from ./patch_weights/shift_rotate/100x100/patch100x100\n"
     ]
    }
   ],
   "source": [
    "my_feed_dict = {\n",
    "    x_shifts: 0,\n",
    "    y_shifts: 200,\n",
    "    start_x: 70,\n",
    "    start_y: size,\n",
    "    end_x: size,\n",
    "    end_y: 0,\n",
    "    thickness: 20,\n",
    "    learning_rate: 1,\n",
    "    target_class: 200,\n",
    "    train_images: train_set,\n",
    "    degrees: 0\n",
    "}\n",
    "\n",
    "with tf.Session() as sess:\n",
    "    \n",
    "    patch_saver.restore(sess, folder_for_patch_chkpt + str(size) + 'x' + str(size) + '/patch' + \\\n",
    "                           str(size) + 'x' + str(size))\n",
    "\n",
    "\n",
    "\n",
    "    # sample images:\n",
    "    train_set = image_utils.sample_image_wrapper(number_of_images, folder_with_images)\n",
    "    \n",
    "    # let's get outpts\n",
    "    ex_folded_array = sess.run(folded_array, feed_dict=my_feed_dict)    \n",
    "    "
   ]
  },
  {
   "cell_type": "code",
   "execution_count": 406,
   "metadata": {},
   "outputs": [
    {
     "data": {
      "image/png": "[encoded data removed]",
      "text/plain": [
       "<Figure size 360x360 with 1 Axes>"
      ]
     },
     "metadata": {
      "needs_background": "light"
     },
     "output_type": "display_data"
    }
   ],
   "source": [
    "post_proc_adv_patch = image_utils.postprocessing(ex_folded_array[0])\n",
    "\n",
    "image_utils.show_image(post_proc_adv_patch)"
   ]
  },
  {
   "cell_type": "markdown",
   "metadata": {},
   "source": [
    "### New function"
   ]
  },
  {
   "cell_type": "code",
   "execution_count": 380,
   "metadata": {},
   "outputs": [],
   "source": [
    "# takes as an input ordered start, end points, rotated patches\n",
    "# returns rotated patches with fold. All empty cells are labeled as -2\n",
    "# All coordinates are specified from the left-bottom point\n",
    "\n",
    "@tf.function\n",
    "def _simple_fold_neightbours(patches, x_start, y_start, x_end, y_end, thickness):\n",
    "    # add 2\n",
    "    pathces_plus_2 = tf.add(patches, 2)\n",
    "    \n",
    "    # cast variables to float\n",
    "    x_start_f, y_start_f = tf.cast(x_start, dtype=tf.float32), tf.cast(y_start, dtype=tf.float32)\n",
    "    x_end_f, y_end_f =  tf.cast(x_end, dtype=tf.float32), tf.cast(y_end, dtype=tf.float32)\n",
    "    thickness_f = tf.cast(thickness, dtype=tf.float32)\n",
    "    \n",
    "    # if a, b are parameters of the line: y = ax + b,\n",
    "    # find 1/a\n",
    "    one_div_a = (x_end_f - x_start_f) / (y_end_f - y_start_f) \n",
    "    \n",
    "    # get (x, y) thickness representation\n",
    "    angle = - tf.math.atan((y_end_f - y_start_f) / (x_end_f - x_start_f))\n",
    "    projected_x = thickness_f * tf.cos(math.pi/2.0 - angle)\n",
    "    projected_y = thickness_f * tf.sin(math.pi/2.0 - angle)\n",
    "    \n",
    "    # cast variables to int\n",
    "    projected_x_i = tf.cast(projected_x, dtype=tf.int32)\n",
    "    projected_y_i = tf.cast(projected_y, dtype=tf.int32)\n",
    "\n",
    "    # get starting point of right border\n",
    "    right_border_start = x_start_f + thickness_f / tf.cos(math.pi/2.0 - angle)\n",
    "    \n",
    "    # get left border\n",
    "    left_border = tf.cast(tf.range(x_start_f, x_end_f, delta=-one_div_a, dtype=tf.float32), dtype=tf.int32)\n",
    "    left_border_appendix = x_end * tf.ones(x_end - tf.shape(left_border), dtype=tf.int32)\n",
    "    full_size_left_border = tf.concat((left_border, left_border_appendix), 0)\n",
    "    \n",
    "    # get right border\n",
    "    right_border = tf.cast(tf.range(right_border_start, x_end_f, delta=-one_div_a, dtype=tf.float32), dtype=tf.int32)\n",
    "    right_border_appendix = x_end * tf.ones(x_end - tf.shape(right_border), dtype=tf.int32)\n",
    "    full_size_right_border = tf.concat((right_border, right_border_appendix), 0)\n",
    "\n",
    "    # produce left mask\n",
    "    left_mask = tf.expand_dims(tf.expand_dims(tf.sequence_mask(full_size_left_border, x_end, dtype=tf.float32), 0), 3)\n",
    "    left_mask_expanded = tf.broadcast_to(left_mask, [tf.shape(patches)[0], x_end, x_end, tf.shape(patches)[3]])\n",
    "    \n",
    "    # produce right mask\n",
    "    right_mask_inverse = tf.expand_dims(tf.expand_dims(tf.sequence_mask(full_size_right_border, x_end, dtype=tf.float32), \n",
    "                                                       0), \n",
    "                                        3)\n",
    "    right_mask = tf.math.abs(right_mask_inverse - 1)\n",
    "    right_mask_expanded = tf.broadcast_to(right_mask, [tf.shape(patches)[0], x_end, x_end, tf.shape(patches)[3]])\n",
    "    \n",
    "    # get masked\n",
    "    left_part = pathces_plus_2 * left_mask_expanded\n",
    "    right_part = pathces_plus_2 * right_mask_expanded\n",
    "    \n",
    "    # shift right part\n",
    "    half_shifted_right_part = tf.roll(right_part, shift=(-projected_x_i), axis=(2))\n",
    "    shifted_right_part = tf.roll(half_shifted_right_part, shift=(projected_y_i), axis=(1))\n",
    "    \n",
    "    \n",
    "    # get folded patch\n",
    "    folded_patch = left_part + shifted_right_part - 2\n",
    "\n",
    "    return folded_patch\n",
    "    "
   ]
  },
  {
   "cell_type": "code",
   "execution_count": 400,
   "metadata": {},
   "outputs": [],
   "source": [
    "@tf.function\n",
    "def _order_neightbouts(single_patch, train_images):\n",
    "    # calculate vector product of start and end ponints with respect\n",
    "    v_prod = (x_start - tf.shape(patches)[1]) * (y_end - tf.shape(patches)[2]) - \\\n",
    "                (x_end - tf.shape(patches)[1]) * (y_start - tf.shape(patches)[2])\n",
    "    \n",
    "    # init returning functions\n",
    "    def f_x_start(): return x_start\n",
    "    def f_y_start(): return y_start\n",
    "    def f_x_end(): return x_end\n",
    "    def f_y_end(): return y_end\n",
    "    \n",
    "    x_start_right_order = tf.cond(v_prod < y, f_x_start, f_x_end)\n",
    "    y_start_right_order = tf.cond(v_prod < y, f_y_start, f_y_end)\n",
    "    x_end_right_order = tf.cond(v_prod < y, f_x_end, f_x_start)\n",
    "    y_end_right_order = tf.cond(v_prod < y, f_y_start, f_y_end)\n",
    "    \n",
    "    return x_start_right_order, y_start_right_order, x_end_right_order, y_end_right_order"
   ]
  },
  {
   "cell_type": "code",
   "execution_count": 408,
   "metadata": {},
   "outputs": [],
   "source": [
    "# takes as an input unordered start, end points, unrotated patches\n",
    "# returns unrotated patches with fold. All empty cells are labeled as -2\n",
    "# All coordinates are specified from the left-bottom point\n",
    "\n",
    "@tf.function\n",
    "def _universal_fold_neightbours(patches, x_start, y_start, x_end, y_end, thickness):\n",
    "    # get the right order of starting and ending points\n",
    "    x_start_right_order, y_start_right_order, x_end_right_order, y_end_right_order = _order_neightbouts(patches, \n",
    "                                                                                                        x_start, \n",
    "                                                                                                        y_start, \n",
    "                                                                                                        x_end, \n",
    "                                                                                                        y_end)\n",
    "\n",
    "    # rotate functions return rotated_patches, x_start_top, y_start_top, x_end_left, y_end_left,\n",
    "    # for positive values rotation rotates counter-clockwise\n",
    "    def remain(): return patches, x_start, y_start, x_end, y_end\n",
    "    def rotate_counter_clockwise_1(): return tf.contrib.image.rotate(patches, math.pi/2), \\\n",
    "                                             tf.shape(patches)[1] - x_start, \\\n",
    "                                             tf.shape(patches)[2], \\\n",
    "                                             tf.shape(patches)[1], \\\n",
    "                                             x_end\n",
    "    def rotate_counter_clockwise_2(): return tf.contrib.image.rotate(patches, math.pi), \\\n",
    "                                             tf.shape(patches)[1] - y_start, \\\n",
    "                                             tf.shape(patches)[2], \\\n",
    "                                             tf.shape(patches)[1], \\\n",
    "                                             x_end\n",
    "        \n",
    "        \n",
    "#         x_start_right_order = tf.cond(v_prod < y, f_x_start, f_x_end)\n",
    "#     y_start_right_order = tf.cond(v_prod < y, f_y_start, f_y_end)\n",
    "#     x_end_right_order = tf.cond(v_prod < y, f_x_end, f_x_start)\n",
    "#     y_end_right_order = tf.cond(v_prod < y, f_y_start, f_y_end)\n",
    "    \n",
    "    \n",
    "#     if\n",
    "    # make rotation\n",
    "    # call fold\n",
    "    # unrotate"
   ]
  },
  {
   "cell_type": "code",
   "execution_count": null,
   "metadata": {},
   "outputs": [],
   "source": [
    "@tf.function\n",
    "def _simple_fold_counters(single_patch, train_images):\n",
    "    pass"
   ]
  },
  {
   "cell_type": "code",
   "execution_count": null,
   "metadata": {},
   "outputs": [],
   "source": [
    "@tf.function\n",
    "def _universal_fold_counters(single_patch, train_images):\n",
    "    pass"
   ]
  },
  {
   "cell_type": "code",
   "execution_count": 398,
   "metadata": {},
   "outputs": [],
   "source": [
    "@tf.function\n",
    "def _order_counters(patches, x_start, y_start, x_end, y_end):\n",
    "    "
   ]
  },
  {
   "cell_type": "code",
   "execution_count": 399,
   "metadata": {},
   "outputs": [],
   "source": [
    "def _universal_fold(patches, x_start, y_start, x_end, y_end, thickness):\n",
    "    "
   ]
  },
  {
   "cell_type": "code",
   "execution_count": null,
   "metadata": {},
   "outputs": [],
   "source": [
    "def make_fold(patches, x_start, y_start, x_end, y_end, thickness):\n",
    "    pass"
   ]
  }
 ],
 "metadata": {
  "kernelspec": {
   "display_name": "venv_209AS",
   "language": "python",
   "name": "venv_209as"
  },
  "language_info": {
   "codemirror_mode": {
    "name": "ipython",
    "version": 3
   },
   "file_extension": ".py",
   "mimetype": "text/x-python",
   "name": "python",
   "nbconvert_exporter": "python",
   "pygments_lexer": "ipython3",
   "version": "3.5.6"
  },
  "varInspector": {
   "cols": {
    "lenName": 16,
    "lenType": 16,
    "lenVar": 40
   },
   "kernels_config": {
    "python": {
     "delete_cmd_postfix": "",
     "delete_cmd_prefix": "del ",
     "library": "var_list.py",
     "varRefreshCmd": "print(var_dic_list())"
    },
    "r": {
     "delete_cmd_postfix": ") ",
     "delete_cmd_prefix": "rm(",
     "library": "var_list.r",
     "varRefreshCmd": "cat(var_dic_list()) "
    }
   },
   "types_to_exclude": [
    "module",
    "function",
    "builtin_function_or_method",
    "instance",
    "_Feature"
   ],
   "window_display": false
  }
 },
 "nbformat": 4,
 "nbformat_minor": 2
}
